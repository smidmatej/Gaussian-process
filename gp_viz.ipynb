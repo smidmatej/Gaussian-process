{
 "cells": [
  {
   "cell_type": "code",
   "execution_count": 1,
   "id": "eb5d0fae-b5e8-418e-ace2-673d25e08271",
   "metadata": {},
   "outputs": [],
   "source": [
    "import numpy as np\n",
    "import matplotlib.pyplot as plt\n",
    "from gp import *\n",
    "import time"
   ]
  },
  {
   "cell_type": "code",
   "execution_count": 2,
   "id": "29347a8d-2dff-43f6-ad10-baa33e39b4ce",
   "metadata": {},
   "outputs": [
    {
     "name": "stdout",
     "output_type": "stream",
     "text": [
      "Size of feature training data = (3, 1)\n",
      "Size of output training data = (3, 1)\n"
     ]
    },
    {
     "ename": "AttributeError",
     "evalue": "'NoneType' object has no attribute 'shape'",
     "output_type": "error",
     "traceback": [
      "\u001b[0;31m---------------------------------------------------------------------------\u001b[0m",
      "\u001b[0;31mAttributeError\u001b[0m                            Traceback (most recent call last)",
      "Cell \u001b[0;32mIn [2], line 8\u001b[0m\n\u001b[1;32m      5\u001b[0m theta0 \u001b[38;5;241m=\u001b[39m [\u001b[38;5;241m1\u001b[39m,\u001b[38;5;241m1\u001b[39m,\u001b[38;5;241m1\u001b[39m] \u001b[38;5;66;03m# Kernel variables\u001b[39;00m\n\u001b[1;32m      7\u001b[0m model \u001b[38;5;241m=\u001b[39m GPR(z_train, y_train, covariance_function\u001b[38;5;241m=\u001b[39mKernelFunction, theta\u001b[38;5;241m=\u001b[39mtheta0)\n\u001b[0;32m----> 8\u001b[0m model_prior \u001b[38;5;241m=\u001b[39m \u001b[43mGPR\u001b[49m\u001b[43m(\u001b[49m\u001b[38;5;28;43;01mNone\u001b[39;49;00m\u001b[43m,\u001b[49m\u001b[43m \u001b[49m\u001b[38;5;28;43;01mNone\u001b[39;49;00m\u001b[43m,\u001b[49m\u001b[43m \u001b[49m\u001b[43mcovariance_function\u001b[49m\u001b[38;5;241;43m=\u001b[39;49m\u001b[43mKernelFunction\u001b[49m\u001b[43m,\u001b[49m\u001b[43m \u001b[49m\u001b[43mtheta\u001b[49m\u001b[38;5;241;43m=\u001b[39;49m\u001b[43mtheta0\u001b[49m\u001b[43m)\u001b[49m\n\u001b[1;32m      9\u001b[0m mean_prior, stb_prior \u001b[38;5;241m=\u001b[39m model_prior\u001b[38;5;241m.\u001b[39mpredict(z_query, std\u001b[38;5;241m=\u001b[39m\u001b[38;5;28;01mTrue\u001b[39;00m)\n\u001b[1;32m     10\u001b[0m \u001b[38;5;66;03m# Before ML optimization\u001b[39;00m\n",
      "File \u001b[0;32m~/Projects/MPC_drone/gp/gp.py:35\u001b[0m, in \u001b[0;36mGPR.__init__\u001b[0;34m(self, z_train, y_train, covariance_function, theta)\u001b[0m\n\u001b[1;32m     28\u001b[0m \u001b[38;5;28;01mdef\u001b[39;00m \u001b[38;5;21m__init__\u001b[39m(\u001b[38;5;28mself\u001b[39m,\n\u001b[1;32m     29\u001b[0m              z_train,\n\u001b[1;32m     30\u001b[0m              y_train,\n\u001b[1;32m     31\u001b[0m              covariance_function,\n\u001b[1;32m     32\u001b[0m              theta):\n\u001b[0;32m---> 35\u001b[0m     \u001b[38;5;28;43mself\u001b[39;49m\u001b[38;5;241;43m.\u001b[39;49m\u001b[43minitialize\u001b[49m\u001b[43m(\u001b[49m\u001b[43mz_train\u001b[49m\u001b[43m,\u001b[49m\u001b[43m \u001b[49m\u001b[43my_train\u001b[49m\u001b[43m,\u001b[49m\u001b[43m \u001b[49m\u001b[43mcovariance_function\u001b[49m\u001b[43m,\u001b[49m\u001b[43m \u001b[49m\u001b[43mtheta\u001b[49m\u001b[43m)\u001b[49m\n",
      "File \u001b[0;32m~/Projects/MPC_drone/gp/gp.py:60\u001b[0m, in \u001b[0;36mGPR.initialize\u001b[0;34m(self, z_train, y_train, covariance_function, theta)\u001b[0m\n\u001b[1;32m     55\u001b[0m \u001b[38;5;66;03m#self.kernel = covariance_function(L=np.diag(theta[:-2]), sigma_f=theta[-2])\u001b[39;00m\n\u001b[1;32m     57\u001b[0m \u001b[38;5;28mself\u001b[39m\u001b[38;5;241m.\u001b[39mnoise \u001b[38;5;241m=\u001b[39m theta[\u001b[38;5;241m-\u001b[39m\u001b[38;5;241m1\u001b[39m]\n\u001b[1;32m     59\u001b[0m \u001b[38;5;28mself\u001b[39m\u001b[38;5;241m.\u001b[39minv_cov_matrix_of_input_data \u001b[38;5;241m=\u001b[39m np\u001b[38;5;241m.\u001b[39mlinalg\u001b[38;5;241m.\u001b[39minv(\n\u001b[0;32m---> 60\u001b[0m     \u001b[38;5;28;43mself\u001b[39;49m\u001b[38;5;241;43m.\u001b[39;49m\u001b[43mcalculate_covariance_matrix\u001b[49m\u001b[43m(\u001b[49m\u001b[43mz_train\u001b[49m\u001b[43m,\u001b[49m\u001b[43m \u001b[49m\u001b[43mz_train\u001b[49m\u001b[43m,\u001b[49m\u001b[43m \u001b[49m\u001b[38;5;28;43mself\u001b[39;49m\u001b[38;5;241;43m.\u001b[39;49m\u001b[43mkernel\u001b[49m\u001b[43m)\u001b[49m \\\n\u001b[1;32m     61\u001b[0m     \u001b[38;5;241m+\u001b[39m (\u001b[38;5;28mself\u001b[39m\u001b[38;5;241m.\u001b[39mnoise\u001b[38;5;241m+\u001b[39m\u001b[38;5;241m1e-7\u001b[39m)\u001b[38;5;241m*\u001b[39mnp\u001b[38;5;241m.\u001b[39midentity(\u001b[38;5;28mlen\u001b[39m(z_train)))\n\u001b[1;32m     63\u001b[0m \u001b[38;5;28mprint\u001b[39m(\u001b[38;5;124mf\u001b[39m\u001b[38;5;124m'\u001b[39m\u001b[38;5;124mSize of feature training data = \u001b[39m\u001b[38;5;132;01m{\u001b[39;00mz_train\u001b[38;5;241m.\u001b[39mshape\u001b[38;5;132;01m}\u001b[39;00m\u001b[38;5;124m'\u001b[39m)\n\u001b[1;32m     64\u001b[0m \u001b[38;5;28mprint\u001b[39m(\u001b[38;5;124mf\u001b[39m\u001b[38;5;124m'\u001b[39m\u001b[38;5;124mSize of output training data = \u001b[39m\u001b[38;5;132;01m{\u001b[39;00my_train\u001b[38;5;241m.\u001b[39mshape\u001b[38;5;132;01m}\u001b[39;00m\u001b[38;5;124m'\u001b[39m)\n",
      "File \u001b[0;32m~/Projects/MPC_drone/gp/gp.py:140\u001b[0m, in \u001b[0;36mGPR.calculate_covariance_matrix\u001b[0;34m(x1, x2, kernel)\u001b[0m\n\u001b[1;32m    137\u001b[0m \u001b[38;5;129m@staticmethod\u001b[39m\n\u001b[1;32m    138\u001b[0m \u001b[38;5;28;01mdef\u001b[39;00m \u001b[38;5;21mcalculate_covariance_matrix\u001b[39m(x1,x2, kernel):\n\u001b[0;32m--> 140\u001b[0m     cov_mat \u001b[38;5;241m=\u001b[39m np\u001b[38;5;241m.\u001b[39mempty((\u001b[43mx1\u001b[49m\u001b[38;5;241;43m.\u001b[39;49m\u001b[43mshape\u001b[49m[\u001b[38;5;241m0\u001b[39m], x2\u001b[38;5;241m.\u001b[39mshape[\u001b[38;5;241m0\u001b[39m]))\u001b[38;5;241m*\u001b[39mnp\u001b[38;5;241m.\u001b[39mNaN\n\u001b[1;32m    141\u001b[0m     x1 \u001b[38;5;241m=\u001b[39m np\u001b[38;5;241m.\u001b[39matleast_2d(x1)\n\u001b[1;32m    142\u001b[0m     x2 \u001b[38;5;241m=\u001b[39m np\u001b[38;5;241m.\u001b[39matleast_2d(x2)\n",
      "\u001b[0;31mAttributeError\u001b[0m: 'NoneType' object has no attribute 'shape'"
     ]
    }
   ],
   "source": [
    "z_train = np.array([0,1,5]).reshape(-1,1)\n",
    "y_train = np.array([7,2,3]).reshape(-1,1)\n",
    "z_query = np.arange(-10,10,0.1).reshape(-1,1)\n",
    "\n",
    "theta0 = [1,1,1] # Kernel variables\n",
    "\n",
    "model = GPR(z_train, y_train, covariance_function=KernelFunction, theta=theta0)\n",
    "model_prior = GPR(None, None, covariance_function=KernelFunction, theta=theta0)\n",
    "mean_prior, stb_prior = model_prior.predict(z_query, std=True)\n",
    "# Before ML optimization\n",
    "mean_b, std_b = model.predict(z_query, std=True)\n",
    "\n",
    "# ML optimization\n",
    "model.maximize_likelyhood()\n",
    "\n",
    "# After optimization\n",
    "mean_a, std_a = model.predict(z_query, std=True)\n"
   ]
  },
  {
   "cell_type": "code",
   "execution_count": null,
   "id": "228d579e-222d-47f7-b5ce-fdda26b80148",
   "metadata": {},
   "outputs": [],
   "source": [
    "a = None\n",
    "a == None\n",
    "\n",
    "a = np.array([1,2])\n",
    "a == None"
   ]
  },
  {
   "cell_type": "code",
   "execution_count": null,
   "id": "fe3a96e3-3a51-47ab-8b61-4adf69681e6e",
   "metadata": {},
   "outputs": [],
   "source": [
    "plt.figure(figsize=(10,6), dpi=100)\n",
    "plt.subplot(1,3,1)\n",
    "plt.plot(z_query, mean_prior)\n",
    "plt.fill_between(z_query.reshape(-1), mean_prior.reshape(-1) - stb_prior, mean_prior.reshape(-1) + stb_prior,\n",
    "                 color='gray', alpha=0.2)\n",
    "plt.xlabel('Velocity in x [ms-1]')\n",
    "plt.ylabel('Acceleration error in x [ms-2]')\n",
    "plt.title(f'GP Before ML optimization')\n",
    "plt.legend(('GP interpolation', 'Measured samples', 'Training samples'))\n",
    "\n",
    "plt.subplot(1,3,2)\n",
    "plt.plot(z_query, mean_b)\n",
    "\n",
    "plt.plot(z_train, y_train, 'x')\n",
    "plt.fill_between(z_query.reshape(-1), mean_b.reshape(-1) - std_b, mean_b.reshape(-1) + std_b,\n",
    "                 color='gray', alpha=0.2)\n",
    "plt.xlabel('Velocity in x [ms-1]')\n",
    "plt.ylabel('Acceleration error in x [ms-2]')\n",
    "plt.title(f'GP Before ML optimization')\n",
    "plt.legend(('GP interpolation', 'Measured samples', 'Training samples'))\n",
    "\n",
    "\n",
    "plt.subplot(1,3,3)\n",
    "plt.plot(z_query, mean_a)\n",
    "\n",
    "plt.plot(z_train, y_train, 'x')\n",
    "plt.fill_between(z_query.reshape(-1), mean_a.reshape(-1) - std_a, mean_a.reshape(-1) + std_a,\n",
    "                 color='gray', alpha=0.2)\n",
    "plt.xlabel('Velocity in x [ms-1]')\n",
    "plt.ylabel('Acceleration error in x [ms-2]')\n",
    "plt.title(f'GP Before ML optimization')\n",
    "plt.legend(('GP interpolation', 'Measured samples', 'Training samples'))"
   ]
  },
  {
   "cell_type": "code",
   "execution_count": null,
   "id": "ffabf9c3-7082-4106-a5c5-3ee7b6971bc1",
   "metadata": {},
   "outputs": [],
   "source": [
    "def one_dim_GPR(dim):\n",
    "    \n",
    "    z = d_loader.get_z(training=False)\n",
    "    y = d_loader.get_y(training=False)\n",
    "\n",
    "\n",
    "    z_train = d_loader.get_z(training=True)\n",
    "    y_train = d_loader.get_y(training=True)\n",
    "\n",
    "\n",
    "    if dim == 'x':\n",
    "        # x velocity\n",
    "        z_train = z_train[:,7].reshape(-1,1)\n",
    "        z = z[:,7].reshape(-1,1)\n",
    "\n",
    "        y_train = y_train[:,0].reshape(-1,1)\n",
    "        y = y[:,0].reshape(-1,1)\n",
    "        \n",
    "    if dim == 'y':\n",
    "        # y velocity\n",
    "        z_train = z_train[:,8].reshape(-1,1)\n",
    "        z = z[:,8].reshape(-1,1)\n",
    "\n",
    "        y_train = y_train[:,1].reshape(-1,1)\n",
    "        y = y[:,1].reshape(-1,1)\n",
    "        \n",
    "    if dim == 'z':\n",
    "        # z velocity\n",
    "        z_train = z_train[:,9].reshape(-1,1)\n",
    "        z = z[:,9].reshape(-1,1)\n",
    "\n",
    "        y_train = y_train[:,2].reshape(-1,1)\n",
    "        y = y[:,2].reshape(-1,1)\n",
    "    \n",
    "    theta0 = [6,1,1] # Kernel variables\n",
    "    x_query = np.arange(-20,20,0.05).reshape(-1,1)\n",
    "\n",
    "    model = GPR(z_train, y_train, covariance_function=RBF, theta=theta0)\n",
    "    # Before ML optimization\n",
    "    mean_b, std_b = model.predict(x_query, std=True)\n",
    "\n",
    "    # Calculate the RMS over all samples\n",
    "    mean_test_before = model.predict(z, std=False)\n",
    "    rms_before = np.sqrt(np.mean((y - mean_test_before)**2))\n",
    "\n",
    "    # ML optimization\n",
    "    model.maximize_likelyhood()\n",
    "\n",
    "    # After optimization\n",
    "    mean_a, std_a = model.predict(x_query, std=True)\n",
    "\n",
    "    # Calculate the RMS over all samples\n",
    "    mean_test_after = model.predict(z, std=False)\n",
    "    rms_after = np.sqrt(np.mean((y - mean_test_after)**2))\n",
    "\n",
    "    print(f'RMS before = {rms_before}')\n",
    "    print(f'RMS after = {rms_after}')\n",
    "    \n",
    "    plt.figure(figsize=(10,6), dpi=100)\n",
    "    plt.subplot(1,2,1)\n",
    "    plt.plot(x_query, mean_b)\n",
    "    plt.scatter(z, y, s=1, c='g')\n",
    "    plt.plot(z_train, y_train, 'x')\n",
    "    plt.fill_between(x_query.reshape(-1), mean_b.reshape(-1) - std_b, mean_b.reshape(-1) + std_b,\n",
    "                     color='gray', alpha=0.2)\n",
    "    plt.xlabel('Velocity in x [ms-1]')\n",
    "    plt.ylabel('Acceleration error in x [ms-2]')\n",
    "    plt.title(f'GP Before ML optimization, rms = {rms_before:.2f}')\n",
    "    plt.legend(('GP interpolation', 'Measured samples', 'Training samples'))\n",
    "\n",
    "\n",
    "    plt.subplot(1,2,2)\n",
    "    plt.plot(x_query, mean_a)\n",
    "    plt.scatter(z, y, s=1, c='g')\n",
    "    plt.plot(z_train, y_train, 'x')\n",
    "    plt.fill_between(x_query.reshape(-1), mean_a.reshape(-1) - std_a, mean_a.reshape(-1) + std_a,\n",
    "                     color='gray', alpha=0.2)\n",
    "    plt.xlabel('Velocity in x [ms-1]')\n",
    "    plt.ylabel('Acceleration error in x [ms-2]')\n",
    "    plt.title(f'GP Before ML optimization, rms = {rms_after:.2f}')\n",
    "    plt.legend(('GP interpolation', 'Measured samples', 'Training samples'))"
   ]
  },
  {
   "cell_type": "code",
   "execution_count": null,
   "id": "7b6f8adc-47b4-4590-8044-73a75401ebf9",
   "metadata": {},
   "outputs": [],
   "source": [
    "one_dim_GPR('x')"
   ]
  },
  {
   "cell_type": "code",
   "execution_count": null,
   "id": "ab4aefb1-92df-4982-961c-4b1252d6b75d",
   "metadata": {},
   "outputs": [],
   "source": [
    "one_dim_GPR('y')"
   ]
  },
  {
   "cell_type": "code",
   "execution_count": null,
   "id": "819a6f4e-5457-4b6d-a61e-79cb62aaa444",
   "metadata": {},
   "outputs": [],
   "source": [
    "one_dim_GPR('z')"
   ]
  }
 ],
 "metadata": {
  "kernelspec": {
   "display_name": "Python 3 (ipykernel)",
   "language": "python",
   "name": "python3"
  },
  "language_info": {
   "codemirror_mode": {
    "name": "ipython",
    "version": 3
   },
   "file_extension": ".py",
   "mimetype": "text/x-python",
   "name": "python",
   "nbconvert_exporter": "python",
   "pygments_lexer": "ipython3",
   "version": "3.8.10"
  }
 },
 "nbformat": 4,
 "nbformat_minor": 5
}
